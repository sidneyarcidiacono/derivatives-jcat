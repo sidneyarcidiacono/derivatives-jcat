{
  "nbformat": 4,
  "nbformat_minor": 0,
  "metadata": {
    "kernelspec": {
      "display_name": "Python 3",
      "language": "python",
      "name": "python3"
    },
    "language_info": {
      "codemirror_mode": {
        "name": "ipython",
        "version": 3
      },
      "file_extension": ".py",
      "mimetype": "text/x-python",
      "name": "python",
      "nbconvert_exporter": "python",
      "pygments_lexer": "ipython3",
      "version": "3.7.6"
    },
    "colab": {
      "name": "Copy of partial_derivative_jcat.ipynb",
      "provenance": [],
      "include_colab_link": true
    }
  },
  "cells": [
    {
      "cell_type": "markdown",
      "metadata": {
        "id": "view-in-github",
        "colab_type": "text"
      },
      "source": [
        "<a href=\"https://colab.research.google.com/github/sidneyarcidiacono/derivatives-jcat/blob/main/Copy_of_partial_derivative_jcat.ipynb\" target=\"_parent\"><img src=\"https://colab.research.google.com/assets/colab-badge.svg\" alt=\"Open In Colab\"/></a>"
      ]
    },
    {
      "cell_type": "markdown",
      "metadata": {
        "id": "_PHVv7BvnOG5"
      },
      "source": [
        "## Learning Objectives\n",
        "\n",
        "By the end of this session you should be able to...\n",
        "\n",
        "1. Take the derivative of a function over one variable\n",
        "1. Take the partial derivative of a function over all of its variables \n",
        "1. Find the minimum of the function to obtain the best line that represents relationships between two variables in a dataset"
      ]
    },
    {
      "cell_type": "markdown",
      "metadata": {
        "id": "9wjRQjPfnOG5"
      },
      "source": [
        "## Why are derivatives important?\n",
        "\n",
        "Derivatives are the foundation for Linear Regression (a topic we'll cover later in the course) that allows us to obtain the best line that represents relationships between two variables in a dataset.\n",
        "\n",
        "## Introduction to Derivatives\n",
        "\n",
        "The process of fidning a derivative is called **Differentiation**, which is a technique used to calculate the slope of a graph at different points.\n",
        "\n",
        "### Activity - Derivative Tutorial:\n",
        "\n",
        "1. Go through this [Derivative tutorial from Math Is Fun](https://www.mathsisfun.com/calculus/derivatives-introduction.html) (15 min)\n",
        "1. When you're done, talk with a partner about topics you still have questions on. See if you can answer each other's questions. (5 min)\n",
        "1. We'll then go over questions on the tutorial as a class (10 min)\n",
        "\n",
        "### Review Diagram\n",
        "\n",
        "Review the below diagram as a class, and compare with what you just learned in the above Derivative Tutorial. Note that a Gradient Function is just another name for the Derivative of a function:\n",
        "\n",
        "<img src=\"https://github.com/sidneyarcidiacono/QL1.1/blob/master/Notebooks/Calculus/diff_y_x2.png?raw=1\" width=\"600\" height=\"600\">\n",
        "<img src=\"https://github.com/sidneyarcidiacono/QL1.1/blob/master/Notebooks/Calculus/diff_y_x2_gragh.png?raw=1\" width=\"600\" height=\"600\">"
      ]
    },
    {
      "cell_type": "markdown",
      "metadata": {
        "id": "CT7e6QdNnOG5"
      },
      "source": [
        "## Derivative Formula\n",
        "\n",
        "- Choose small $\\Delta x$\n",
        "\n",
        "- $f^\\prime(x) = \\frac{d}{dx}f(x) = \\frac{\\Delta y}{\\Delta x}  = \\frac{f(x + \\Delta x) - f(x)}{\\Delta x}$\n",
        "\n",
        "Remember that $\\Delta x$ approaches 0. So if plugging in a value in the above formula, choose a _very_ small number, or simplify the equation further such that all $\\Delta x = 0$, like we saw in the tutorial"
      ]
    },
    {
      "cell_type": "markdown",
      "metadata": {
        "id": "u3SJDOuonOG5"
      },
      "source": [
        "## Activity: Write a Python function that calculates the gradient of $x^2$ at $x = 3$ and $x = -2$ using the above definition"
      ]
    },
    {
      "cell_type": "code",
      "metadata": {
        "id": "cM5aegHvnOG5",
        "outputId": "f1f73634-b182-4b86-853c-b7422f4dcf1a"
      },
      "source": [
        "def f(x):\n",
        "    return x**2\n",
        "\n",
        "\n",
        "eps = 1e-6\n",
        "x = 3\n",
        "print((f(x + eps) - f(x)) / eps)\n",
        "x = -2\n",
        "print((f(x + eps) - f(x)) / eps)"
      ],
      "execution_count": null,
      "outputs": [
        {
          "output_type": "stream",
          "text": [
            "6.000001000927568\n",
            "-3.999998999582033\n"
          ],
          "name": "stdout"
        }
      ]
    },
    {
      "cell_type": "markdown",
      "metadata": {
        "id": "5w4CoyMpnOG7"
      },
      "source": [
        "Note that these values match $2x$, our derivative of $x^2$:\n",
        "\n",
        "$2*3 = 6$\n",
        "\n",
        "$2 * -2 = -4$"
      ]
    },
    {
      "cell_type": "markdown",
      "metadata": {
        "id": "j0uqtpsNnOG7"
      },
      "source": [
        "## Derivative Table\n",
        "\n",
        "As a shortcut, use the second page of this PDF to find the derivative for common formulas. Utilize this as a resource going forward!\n",
        "\n",
        "- https://www.qc.edu.hk/math/Resource/AL/Derivative%20Table.pdf"
      ]
    },
    {
      "cell_type": "markdown",
      "metadata": {
        "id": "_A9AakAAnOG7"
      },
      "source": [
        "## Extend Gradient into Two-Dimensional Space"
      ]
    },
    {
      "cell_type": "markdown",
      "metadata": {
        "id": "fdj5KICtnOG7"
      },
      "source": [
        "Now we know how to calculate a derivative of one variable. But what if we have two?\n",
        "\n",
        "To do this, we need to utilize **Partial Derivatives**. Calculating a partial derivative is essentially calculating two derivatives for a function: one for each variable, where they other variable is set to a constant.\n",
        "\n",
        "### Activity - Partial Derivative Video\n",
        "\n",
        "Lets watch this video about Partial Derivative Intro from Khan Academy: https://youtu.be/AXqhWeUEtQU\n",
        "\n",
        "**Note:** Here are some derivative shortcuts that will help in the video:\n",
        "\n",
        "$\\frac{d}{dx}x^2 = 2x$\n",
        "\n",
        "$\\frac{d}{x}sin(x) = cos(x)$\n",
        "\n",
        "$\\frac{d}{dx}x = 1$\n",
        "\n",
        "### Activity - Now You Try!\n",
        "Consider the function $f(x, y) = \\frac{x^2}{y}$\n",
        "\n",
        "- Calculate the first order partial derivatives ($\\frac{\\partial f}{\\partial x}$ and $\\frac{\\partial f}{\\partial y}$) and evaluate them at the point $P(2, 1)$."
      ]
    },
    {
      "cell_type": "markdown",
      "metadata": {
        "id": "Wc6lcKIpnOG7"
      },
      "source": [
        "## We can use the Symbolic Python package (library) to compute the derivatives and partial derivatives"
      ]
    },
    {
      "cell_type": "code",
      "metadata": {
        "id": "urUXd4QgnOG7",
        "outputId": "9b0c2320-c0d4-44ba-bf27-d1d20a5b599a"
      },
      "source": [
        "from sympy import symbols, diff\n",
        "# initialize x and y to be symbols to use in a function\n",
        "x, y = symbols('x y', real=True)\n",
        "f = (x**2)/y\n",
        "# Find the partial derivatives of x and y\n",
        "fx = diff(f, x, evaluate=True) # partial derivative of f(x,y) with respect to x\n",
        "fy = diff(f, y, evaluate=True) # partial derivative of f(x,y) with respect to y\n",
        "print(fx)\n",
        "print(fy)\n",
        "# print(f.evalf(subs={x: 2, y: 1}))\n",
        "print(fx.evalf(subs={x: 2, y: 1}))\n",
        "print(fy.evalf(subs={x: 2, y: 1}))"
      ],
      "execution_count": null,
      "outputs": [
        {
          "output_type": "stream",
          "text": [
            "2*x/y\n",
            "-x**2/y**2\n",
            "4.00000000000000\n",
            "-4.00000000000000\n"
          ],
          "name": "stdout"
        }
      ]
    },
    {
      "cell_type": "markdown",
      "metadata": {
        "id": "FmsLz9_6nOG7"
      },
      "source": [
        "## Optional Reading: Tensorflow is a powerful package from Google that calculates the derivatives and partial derivatives numerically "
      ]
    },
    {
      "cell_type": "code",
      "metadata": {
        "id": "YrAvidEKnOG7"
      },
      "source": [
        "import tensorflow as tf \n",
        "\n",
        "x = tf.Variable(2.0)\n",
        "y = tf.Variable(1.0)\n",
        "\n",
        "with tf.GradientTape(persistent=True) as t:\n",
        "    z = tf.divide(tf.multiply(x, x), y)\n",
        "\n",
        "# Use the tape to compute the derivative of z with respect to the\n",
        "# intermediate value x and y.\n",
        "dz_dx = t.gradient(z, x)\n",
        "dz_dy = t.gradient(z, y)\n",
        "\n",
        "\n",
        "print(dz_dx)\n",
        "print(dz_dy)\n",
        "\n",
        "# All at once:\n",
        "gradients = t.gradient(z, [x, y])\n",
        "print(gradients)\n",
        "\n",
        "\n",
        "del t"
      ],
      "execution_count": null,
      "outputs": []
    },
    {
      "cell_type": "markdown",
      "metadata": {
        "id": "R2NLoCf4nOG7"
      },
      "source": [
        "## Optional Reading: When x and y are declared as constant, we should add `t.watch(x)` and `t.watch(y)`"
      ]
    },
    {
      "cell_type": "code",
      "metadata": {
        "id": "6QzmtEjknOG7"
      },
      "source": [
        "import tensorflow as tf \n",
        "\n",
        "x = tf.constant(2.0)\n",
        "y = tf.constant(1.0)\n",
        "\n",
        "with tf.GradientTape(persistent=True) as t:\n",
        "    t.watch(x)\n",
        "    t.watch(y)\n",
        "    z = tf.divide(tf.multiply(x, x), y)\n",
        "\n",
        "# Use the tape to compute the derivative of z with respect to the\n",
        "# intermediate value y.\n",
        "dz_dx = t.gradient(z, x)\n",
        "dz_dy = t.gradient(z, y)"
      ],
      "execution_count": null,
      "outputs": []
    },
    {
      "cell_type": "markdown",
      "metadata": {
        "id": "c8vI4sqEnOG7"
      },
      "source": [
        "# Calculate Partial Derivative from Definition"
      ]
    },
    {
      "cell_type": "code",
      "metadata": {
        "id": "jM5d8DwlnOG7",
        "outputId": "717b19e3-4488-424a-d26e-c883affbfa39"
      },
      "source": [
        "def f(x, y):\n",
        "    return x**2/y\n",
        "\n",
        "\n",
        "eps = 1e-6\n",
        "x = 2\n",
        "y = 1\n",
        "print((f(x + eps, y) - f(x, y)) / eps)\n",
        "print((f(x, y + eps) - f(x, y)) / eps)"
      ],
      "execution_count": null,
      "outputs": [
        {
          "output_type": "stream",
          "text": [
            "4.0000010006480125\n",
            "-3.9999959997594203\n"
          ],
          "name": "stdout"
        }
      ]
    },
    {
      "cell_type": "markdown",
      "metadata": {
        "id": "F05HuMCRnOG8"
      },
      "source": [
        "Looks about right! This works rather well, but it is just an approximation. Also, you need to call `f()` at least once per parameter (not twice, since we could compute `f(x, y)` just once). This makes this approach difficult to control for large systems (for example neural networks)."
      ]
    },
    {
      "cell_type": "markdown",
      "metadata": {
        "id": "Abp6hOcZnOG8"
      },
      "source": [
        "## Why Do we need Partial Gradients?\n",
        "\n",
        "In many applications, more specifically DS applications, we want to find the Minimum of a cost function\n",
        "\n",
        "- **Cost Function:** a function used in machine learning to help correct / change behaviour to minimize mistakes. Or in other words, a measure of how wrong the model is in terms of its ability to estimate the relationship between x and y. [Source](https://towardsdatascience.com/machine-learning-fundamentals-via-linear-regression-41a5d11f5220)\n",
        "\n",
        "\n",
        "Why do we want to find the minimum for a cost function? Given that a cost function mearues how wrong a model is, we want to _minimize_ that error!\n",
        "\n",
        "In Machine Learning, we frequently use models to run our data through, and cost functions help us figure out how badly our models are performing. We want to find parameters (also known as **weights**) to minimize our cost function, therefore minimizing error!\n",
        "\n",
        "We find find these optimal weights by using a **Gradient Descent**, which is an algorithm that tries to find the minimum of a function (exactly what we needed!). The gradient descent tells the model which direction it should take in order to minimize errors, and it does this by selecting more and more optimal weights until we've minimized the function! We'll learn more about models when we talk about Linear Regression in a future lesson, but for now, let's review the Gradient Descent process with the below images, given weights $w_0$ and $w_1$:\n",
        "\n",
        "<img src=\"https://github.com/sidneyarcidiacono/QL1.1/blob/master/Notebooks/Calculus/gradient_descent.png?raw=1\" width=\"800\" height=\"800\">\n",
        "\n",
        "Look at that bottom right image. Looks like we're using partial derivatives to find out optimal weights. And we know exactly how to do that!"
      ]
    },
    {
      "cell_type": "markdown",
      "metadata": {
        "id": "4cWyOcq_nOG8"
      },
      "source": [
        "## Finding minimum of a function\n",
        "\n",
        "Assume we want to minimize the function $J$ which has two weights $w_0$ and $w_1$\n",
        "\n",
        "We have two options to find the minimum of $J(w_0, w_1)$:\n",
        "\n",
        "1. Take partial derivatives of $J(w_0, w_1)$ with relation to $w_0$ and $w_1$:\n",
        "\n",
        "$\\frac{\\partial J(w_0, w_1)}{\\partial w_0}$\n",
        "\n",
        "$\\frac{\\partial J(w_0, w_1)}{\\partial w_1}$\n",
        "\n",
        "And find the appropriate weights such that the partial derivatives equal 0:\n",
        "\n",
        "$\\frac{\\partial J(w_0, w_1)}{\\partial w_0} = 0$\n",
        "\n",
        "$\\frac{\\partial J(w_0, w_1)}{\\partial w_1} = 0$\n",
        "\n",
        "In this approach we should solve system of linear or non-linear equation\n",
        "\n",
        "2. Use the Gradient Descent algorithm:\n",
        "\n",
        "First we need to define two things:\n",
        "\n",
        "- A step-size alpha ($\\alpha$) -- also called the *learning rate* -- as a small number (like $1.e-5$)\n",
        "- An arbitrary random initial value for $w_0$ and $w_1$: $w_0 = np.random.randn()$ and $w_1 = np.random.randn()$\n",
        "\n",
        "Finally, we need to search for the most optimal $w_0$ and $w_1$ by using a loop to update the weights until we find the most optimal weights. We'll need to establish a threshold to compare weights to know when to stop the loop. For example, if the weight update -- the change in the weight parameter -- from one iteration is within 0.0001 of the weight from the previous iteration, we can stop the loop (0.0001 is our threshold here)\n",
        "\n",
        "Let's review some pseudocode for how to implement this algorithm:\n",
        "\n",
        "```\n",
        "# initialization\n",
        "initialize the following:\n",
        "    a starting weight value -- an initial guess, could be random\n",
        "    the learning rate (alpha), a small number (we'll choose 1.e-5)\n",
        "    the threshold -- set this to 1.e-4\n",
        "    the current weight update -- initialize to 1\n",
        "\n",
        "# weight update loop\n",
        "while the weight update is greater than the threshold:\n",
        "    store the current values of the weights into a previous value variable \n",
        "    set the weight values to new values based on the algorithm, by adding the weight updates\n",
        "```\n",
        "\n",
        "How do we `set the weight values to new values based on the algorithm`? by using the below equations:\n",
        "    \n",
        "$w_0 = w_0 - \\alpha \\frac{\\partial J(w_0, w_1)}{\\partial w_0}$\n",
        "        \n",
        "$w_1 = w_1 - \\alpha \\frac{\\partial J(w_0, w_1)}{\\partial w_1}$\n",
        "\n",
        "\n",
        "Finish the \"starter code\" block below, creating real code from the pseudocode!\n",
        "\n",
        "\n",
        "**Stretch Challenge:** We may also want to limit the number of loops we do, in addition to checking the threshold. Determine how we may go about doing that\n",
        "\n",
        "\n",
        "## Resources\n",
        "\n",
        "- [Derivative tutorial from Math Is Fun](https://www.mathsisfun.com/calculus/derivatives-introduction.html) \n",
        "- [Derivative Table](https://www.qc.edu.hk/math/Resource/AL/Derivative%20Table.pdf)\n",
        "- [Khan Academy - Partial Derivatives video](https://www.youtube.com/watch?v=AXqhWeUEtQU&feature=youtu.be)\n",
        "- [Towards Data Science - Machine Learning Fundamentals: cost functions and gradient Descent](https://towardsdatascience.com/machine-learning-fundamentals-via-linear-regression-41a5d11f5220)"
      ]
    },
    {
      "cell_type": "markdown",
      "metadata": {
        "id": "BkII5ETPnOG8"
      },
      "source": [
        "## Gradient descent in one dimension"
      ]
    },
    {
      "cell_type": "code",
      "metadata": {
        "id": "db2ZiqMTnOG8"
      },
      "source": [
        "# pseudo-code\n",
        "def minimize(f):\n",
        "    # Initialize\n",
        "    \n",
        "    # run the weight update loop until it terminates\n",
        "    \n",
        "    # return the current weights"
      ],
      "execution_count": null,
      "outputs": []
    },
    {
      "cell_type": "code",
      "metadata": {
        "id": "9VOl5qMWnOG8",
        "colab": {
          "base_uri": "https://localhost:8080/",
          "height": 265
        },
        "outputId": "67837132-d434-4271-bd14-bb44ce26f04a"
      },
      "source": [
        "import matplotlib.pyplot as plt\n",
        "import numpy as np\n",
        "np.random.seed(42)\n",
        "eps = 1.e-10\n",
        "\n",
        "# define an interesting function to minimize\n",
        "x = np.linspace(-10,10, 100)\n",
        "fx =lambda x: (1/50)*x**4 - 2*x**2 + x + 1 \n",
        "df_dx = lambda x: (4/50)*x**3 - 4*x + 1\n",
        "plt.plot(x,fx(x),label = 'function f(x)')\n",
        "plt.plot(x,df_dx(x),'r--',label = 'derivative df/dx')\n",
        "plt.legend()\n",
        "plt.grid()"
      ],
      "execution_count": null,
      "outputs": [
        {
          "output_type": "display_data",
          "data": {
            "image/png": "[encoded data removed]",
            "text/plain": [
              "<Figure size 432x288 with 1 Axes>"
            ]
          },
          "metadata": {
            "tags": [],
            "needs_background": "light"
          }
        }
      ]
    },
    {
      "cell_type": "markdown",
      "metadata": {
        "id": "C50OUegEnOG8"
      },
      "source": [
        "### gradient descent function"
      ]
    },
    {
      "cell_type": "code",
      "metadata": {
        "id": "hVrR98omnOG8"
      },
      "source": [
        "def minimize(fx,x_init):\n",
        "    # Initialize\n",
        "    alpha = 1.e-6\n",
        "    thresh = 1.e-4\n",
        "    weight_update = 1.\n",
        "    x_values = []\n",
        "    max_iter = 1000\n",
        "    n_iter = 0\n",
        "    x = x_init\n",
        "    eps = 1.e-10\n",
        "    \n",
        "    # run the weight update loop until it terminates\n",
        "    while np.abs(weight_update) > thresh: #and n_iter < max_iter:\n",
        "        n_iter+=1\n",
        "        df_dx = (fx(x+eps) - fx(x))/eps\n",
        "        weight_update = -alpha*df_dx\n",
        "        x = x + weight_update\n",
        "        x_values.append(x) \n",
        "    \n",
        "    # return the final value of the weight -- which should correspond to the minimum of the function\n",
        "    return x, x_init, x_values, n_iter"
      ],
      "execution_count": null,
      "outputs": []
    },
    {
      "cell_type": "markdown",
      "metadata": {
        "id": "xpZWXJ0RnOG8"
      },
      "source": [
        "### Choose an initial value for x, then run gradient descent"
      ]
    },
    {
      "cell_type": "code",
      "metadata": {
        "id": "4lKDQLuVnOG8",
        "outputId": "ce9a2b19-83cc-4773-b2a6-5be57c2f438f"
      },
      "source": [
        "np.random.seed(42)\n",
        "x_init = np.random.uniform(-10,10,1) # choose a random starting point\n",
        "print(x_init)\n",
        "x_star, x_init, x_values, n_iter = minimize(f,x_init)\n",
        "print(f'Started at {x_init}, found minimum {x_star} after {n_iter} iterations')"
      ],
      "execution_count": null,
      "outputs": [
        {
          "output_type": "stream",
          "text": [
            "[-2.50919762]\n",
            "Started at [-2.50919762], found minimum [-2.5092074] after 1 iterations\n"
          ],
          "name": "stdout"
        }
      ]
    },
    {
      "cell_type": "markdown",
      "metadata": {
        "id": "pfSyvIqYnOG8"
      },
      "source": [
        "### Check that the derivative of the function is indeed zero at the minimum found by gradient descent"
      ]
    },
    {
      "cell_type": "code",
      "metadata": {
        "id": "p3S1eyIlnOG8",
        "outputId": "63f8f1f4-c84d-4bfe-a5da-bb090442db85"
      },
      "source": [
        "# derivative, from calculus \n",
        "print(f'derivative from calculus: {df_dx(x_star)}')\n",
        "\n",
        "# derivative, from definition\n",
        "print(f'derivative from calculus:  {(fx(x_star + eps) - fx(x_star) )/eps}')"
      ],
      "execution_count": null,
      "outputs": [
        {
          "output_type": "stream",
          "text": [
            "derivative from calculus: [10.01321418]\n",
            "derivative from calculus:  [10.01321692]\n"
          ],
          "name": "stdout"
        }
      ]
    },
    {
      "cell_type": "code",
      "metadata": {
        "id": "0o8qFqlinOG9",
        "outputId": "1cd8f96a-3f00-4a02-e954-e4da895dc383"
      },
      "source": [
        "x_values = np.array(x_values)\n",
        "plt.plot(x,fx(x),label = 'function f(x)')\n",
        "plt.plot(np.array(x_values),fx(x_values),'.',markersize = 1, label='gradient descent updates')\n",
        "plt.plot(x_init,fx(x_init),'r.',markersize = 10, label = '$x_{init}$')\n",
        "plt.plot(x_star,fx(x_star),'k*',markersize = 10, label = '$x_{star}$')\n",
        "\n",
        "plt.xlabel('x')\n",
        "plt.ylabel('f(x)')\n",
        "plt.grid()\n",
        "plt.legend(loc='best');"
      ],
      "execution_count": null,
      "outputs": [
        {
          "output_type": "display_data",
          "data": {
            "image/png": "[encoded data removed]",
            "text/plain": [
              "<Figure size 432x288 with 1 Axes>"
            ]
          },
          "metadata": {
            "tags": [],
            "needs_background": "light"
          }
        }
      ]
    },
    {
      "cell_type": "code",
      "metadata": {
        "id": "9gjeHGYinOG9"
      },
      "source": [
        "def derivative(fx, x):\n",
        "    delta_x = 1.e-10\n",
        "    df_dx = (fx(x + delta_x) - fx(x))/delta_x\n",
        "    return df_dx"
      ],
      "execution_count": null,
      "outputs": []
    },
    {
      "cell_type": "code",
      "metadata": {
        "id": "dHwCYtLQn2On",
        "colab": {
          "base_uri": "https://localhost:8080/"
        },
        "outputId": "b9c506e4-1f36-406a-d82f-dd592e87e956"
      },
      "source": [
        "derivative(fx, -8.75)"
      ],
      "execution_count": null,
      "outputs": [
        {
          "output_type": "execute_result",
          "data": {
            "text/plain": [
              "-17.593890788702993"
            ]
          },
          "metadata": {
            "tags": []
          },
          "execution_count": 8
        }
      ]
    }
  ]
}